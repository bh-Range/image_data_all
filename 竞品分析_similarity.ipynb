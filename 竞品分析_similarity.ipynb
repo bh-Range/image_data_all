{
  "nbformat": 4,
  "nbformat_minor": 0,
  "metadata": {
    "colab": {
      "name": "竞品分析_similarity.ipynb",
      "provenance": [],
      "toc_visible": true,
      "mount_file_id": "15neEW2iCG0NtlthnhhgoJcgq-m8rcKHI",
      "authorship_tag": "ABX9TyO3hNZpca0lXzDiZmeW63iE",
      "include_colab_link": true
    },
    "kernelspec": {
      "name": "python3",
      "display_name": "Python 3"
    }
  },
  "cells": [
    {
      "cell_type": "markdown",
      "metadata": {
        "id": "view-in-github",
        "colab_type": "text"
      },
      "source": [
        "<a href=\"https://colab.research.google.com/github/bh-Range/image_data_all/blob/main/%E7%AB%9E%E5%93%81%E5%88%86%E6%9E%90_similarity.ipynb\" target=\"_parent\"><img src=\"https://colab.research.google.com/assets/colab-badge.svg\" alt=\"Open In Colab\"/></a>"
      ]
    },
    {
      "cell_type": "code",
      "metadata": {
        "id": "w-m-AWubFkln"
      },
      "source": [
        "!pip install pandas"
      ],
      "execution_count": null,
      "outputs": []
    },
    {
      "cell_type": "code",
      "metadata": {
        "id": "1bnVM2NyF_Vi"
      },
      "source": [
        "!pip install pytorch"
      ],
      "execution_count": null,
      "outputs": []
    },
    {
      "cell_type": "code",
      "metadata": {
        "id": "MPpbgDmbRYd5"
      },
      "source": [
        "!pip install torchvision"
      ],
      "execution_count": null,
      "outputs": []
    },
    {
      "cell_type": "code",
      "metadata": {
        "colab": {
          "base_uri": "https://localhost:8080/"
        },
        "id": "7xQA8bkYpuU1",
        "outputId": "2656fb0f-b3df-4892-ea85-26b4023cbf79"
      },
      "source": [
        "!pip install sklearn"
      ],
      "execution_count": 4,
      "outputs": [
        {
          "output_type": "stream",
          "text": [
            "Requirement already satisfied: sklearn in /usr/local/lib/python3.6/dist-packages (0.0)\n",
            "Requirement already satisfied: scikit-learn in /usr/local/lib/python3.6/dist-packages (from sklearn) (0.22.2.post1)\n",
            "Requirement already satisfied: scipy>=0.17.0 in /usr/local/lib/python3.6/dist-packages (from scikit-learn->sklearn) (1.4.1)\n",
            "Requirement already satisfied: joblib>=0.11 in /usr/local/lib/python3.6/dist-packages (from scikit-learn->sklearn) (1.0.0)\n",
            "Requirement already satisfied: numpy>=1.11.0 in /usr/local/lib/python3.6/dist-packages (from scikit-learn->sklearn) (1.19.4)\n"
          ],
          "name": "stdout"
        }
      ]
    },
    {
      "cell_type": "code",
      "metadata": {
        "id": "E7DeZLLLqfgv"
      },
      "source": [
        "import numpy as np"
      ],
      "execution_count": null,
      "outputs": []
    },
    {
      "cell_type": "code",
      "metadata": {
        "id": "wYOSZsfk3RIT"
      },
      "source": [
        "!pip install pretrainedmodels"
      ],
      "execution_count": null,
      "outputs": []
    },
    {
      "cell_type": "code",
      "metadata": {
        "id": "WXRn6q5y33Ic"
      },
      "source": [
        "!pip install keras"
      ],
      "execution_count": null,
      "outputs": []
    },
    {
      "cell_type": "code",
      "metadata": {
        "colab": {
          "base_uri": "https://localhost:8080/"
        },
        "id": "AuQNlBIFeEHr",
        "outputId": "196199b3-e166-45b7-a539-780f7c9b1385"
      },
      "source": [
        "!git clone https://github.com/bh-Range/image_data_all.git"
      ],
      "execution_count": 64,
      "outputs": [
        {
          "output_type": "stream",
          "text": [
            "Cloning into 'image_data_all'...\n",
            "remote: Enumerating objects: 11543, done.\u001b[K\n",
            "remote: Counting objects: 100% (11543/11543), done.\u001b[K\n",
            "remote: Compressing objects: 100% (9546/9546), done.\u001b[K\n",
            "remote: Total 11543 (delta 16), reused 11540 (delta 16), pack-reused 0\u001b[K\n",
            "Receiving objects: 100% (11543/11543), 163.25 MiB | 33.89 MiB/s, done.\n",
            "Resolving deltas: 100% (16/16), done.\n",
            "Checking out files: 100% (7819/7819), done.\n"
          ],
          "name": "stdout"
        }
      ]
    },
    {
      "cell_type": "code",
      "metadata": {
        "colab": {
          "base_uri": "https://localhost:8080/"
        },
        "id": "BzCyPVAr6W1T",
        "outputId": "4b8e20f1-4a56-455d-f55b-bade1ad89ced"
      },
      "source": [
        "import numpy as np\r\n",
        "from numpy import linalg as LA\r\n",
        "from keras.preprocessing import image\r\n",
        "from keras.applications.vgg16 import VGG16\r\n",
        "from keras.applications.vgg16 import preprocess_input\r\n",
        "\r\n",
        "\r\n",
        "class VGGNet:\r\n",
        "  def __init__(self):\r\n",
        "    self.input_shape = (224, 224, 3)\r\n",
        "      self.model = VGG16(weights='imagenet', pooling='max', include_top=False,\r\n",
        "                           input_shape=(self.input_shape[0], self.input_shape[1], self.input_shape[2]))\r\n",
        "\r\n",
        "  def extract_feat(self, img_path):\r\n",
        "    '''提取图像特征\r\n",
        "\r\n",
        "      :param img_path: 图像路径\r\n",
        "      :return: 归一化后的图像特征\r\n",
        "    '''\r\n",
        "    img = image.load_img(img_path, target_size=(self.input_shape[0], self.input_shape[1]))\r\n",
        "    img = image.img_to_array(img)\r\n",
        "    img = np.expand_dims(img, axis=0)\r\n",
        "    img = preprocess_input(img)\r\n",
        "    feat = self.model.predict(img)\r\n",
        "    norm_feat = feat[0] / LA.norm(feat[0])\r\n",
        "    return norm_feat"
      ],
      "execution_count": 63,
      "outputs": [
        {
          "output_type": "stream",
          "text": [
            "0.63770986\n"
          ],
          "name": "stdout"
        }
      ]
    },
    {
      "cell_type": "code",
      "metadata": {
        "id": "1JgmH9eGeRDy"
      },
      "source": [
        "import os\r\n",
        "def traverse_dir(current_dir):\r\n",
        "    '''\r\n",
        "    current_dir: 绝对路径或当前路径，例如 'D:/picture'\r\n",
        "    '''\r\n",
        "    filedir_list=[]\r\n",
        "    file_list = os.listdir(current_dir)\r\n",
        "    for file in file_list:\r\n",
        "        path = os.path.join(current_dir, file)\r\n",
        "        '''\r\n",
        "        if os.path.isfile(path):\r\n",
        "            filedir_list.append(path)\r\n",
        "        '''\r\n",
        "        filedir_list.append(path)\r\n",
        "    return filedir_list          "
      ],
      "execution_count": 77,
      "outputs": []
    },
    {
      "cell_type": "code",
      "metadata": {
        "id": "QKBUAt0TgatH"
      },
      "source": [
        "#os.listdir(filedir_list[1])\r\n",
        "def image_name(filedir_list):\r\n",
        "  '''\r\n",
        "  输出为字典，键值对为：产品名：图片路径\r\n",
        "  filedir_list:输入的列表，存储某一小类下所有产品的文件夹名\r\n",
        "  '''\r\n",
        "  dict_image=dict()\r\n",
        "  for file in filedir_list:\r\n",
        "    #图片名\r\n",
        "    name=file.split(\"/\")[-1]\r\n",
        "\r\n",
        "    #遍历文件夹下的文件\r\n",
        "    file_list=os.listdir(file)\r\n",
        "\r\n",
        "    if len(file_list)>0:\r\n",
        "      path=os.path.join(file, file_list[0])\r\n",
        "      dict_image[name]=path\r\n",
        "\r\n",
        "  return dict_image"
      ],
      "execution_count": 90,
      "outputs": []
    },
    {
      "cell_type": "code",
      "metadata": {
        "id": "3tbATykYie71"
      },
      "source": [
        "#字典：产品名：图片路径\r\n",
        "dict_image=image_name(filedir_list)\r\n",
        "\r\n",
        "#列表：产品名\r\n",
        "product_name=[key for key in dict_image]"
      ],
      "execution_count": 96,
      "outputs": []
    },
    {
      "cell_type": "code",
      "metadata": {
        "id": "4d6m2nOLjQCW"
      },
      "source": [
        "def image_sim(name1,name2,dict_image,model):\r\n",
        "  '''\r\n",
        "  计算两个产品之间的相似性\r\n",
        "  name1/name2:产品名\r\n",
        "  model:模型\r\n",
        "  '''\r\n",
        "  #model = VGGNet()\r\n",
        "  path1,path2=dict_image[name1],dict_image[name2]\r\n",
        "  image1 = model.extract_feat(path1)\r\n",
        "  image2 = model.extract_feat(path2)\r\n",
        "  return np.dot(image1, image2.T)"
      ],
      "execution_count": 100,
      "outputs": []
    },
    {
      "cell_type": "code",
      "metadata": {
        "id": "c0Z3pZNEkQQg"
      },
      "source": [
        "def topk_image_sim(name,dict_image,model,k=5):\r\n",
        "  '''\r\n",
        "  计算与某个产品最相似的前k个产品，返回（产品名，相似度），输出为列表\r\n",
        "  '''\r\n",
        "  res=[]\r\n",
        "  count=0\r\n",
        "  for key in dict_image:\r\n",
        "    try:\r\n",
        "      sim=image_sim(name,key,dict_image,model)\r\n",
        "      res.append([key,sim])\r\n",
        "    except:\r\n",
        "      print(\"{} image cannot open\".format(key))\r\n",
        "  res=sorted(res,key=lambda x:x[1],reverse=True)\r\n",
        "  return res"
      ],
      "execution_count": 116,
      "outputs": []
    },
    {
      "cell_type": "code",
      "metadata": {
        "id": "6jfC3IVEmqru"
      },
      "source": [
        "if __name__ == '__main__':\r\n",
        "  #大类、小类\r\n",
        "  big_class=\"Skirt\"\r\n",
        "  tiny_class=\"Skirt\"\r\n",
        "\r\n",
        "  #对应文件路径\r\n",
        "  current_dir=\"/content/image_data_all/picture_VERO_MODA/\"+big_class+\"/\"+tiny_class\r\n",
        "\r\n",
        "  filedir_list=traverse_dir(current_dir)\r\n",
        "\r\n",
        "  #字典：产品名：图片路径\r\n",
        "  dict_image=image_name(filedir_list)\r\n",
        "\r\n",
        "  #列表：产品名\r\n",
        "  product_name=[key for key in dict_image]\r\n",
        "\r\n",
        "\r\n",
        "  name=\"ACCESS MINI SKIRT(NR)\"\r\n",
        "  model=VGGNet()\r\n",
        "  \r\n",
        "  res_skirt=topk_image_sim(name,dict_image,model,k=5)\r\n"
      ],
      "execution_count": 124,
      "outputs": []
    },
    {
      "cell_type": "code",
      "metadata": {
        "colab": {
          "base_uri": "https://localhost:8080/"
        },
        "id": "1tFHT9p9zefV",
        "outputId": "48f975b8-65cb-4db9-a525-f47e65359415"
      },
      "source": [
        "res_top_jersey[:5]"
      ],
      "execution_count": 121,
      "outputs": [
        {
          "output_type": "execute_result",
          "data": {
            "text/plain": [
              "[['ADRIEN FEEL BOX SS TOP(UC)', 1.0000001],\n",
              " ['CLEO SS TOP(SS)', 0.8299022],\n",
              " ['FLOWER SS TOP(NN)', 0.8124581],\n",
              " ['PEARL RABBY SS TOP CL5(SL)', 0.80588883],\n",
              " ['VIBE SUN BOX SS JERSEY TOP(GS)', 0.80328166]]"
            ]
          },
          "metadata": {
            "tags": []
          },
          "execution_count": 121
        }
      ]
    },
    {
      "cell_type": "code",
      "metadata": {
        "colab": {
          "base_uri": "https://localhost:8080/"
        },
        "id": "smyOP74A2brR",
        "outputId": "ea141e02-a4b8-4de4-cb3c-842838c08095"
      },
      "source": [
        "res_skirt[:5]"
      ],
      "execution_count": 125,
      "outputs": [
        {
          "output_type": "execute_result",
          "data": {
            "text/plain": [
              "[['ACCESS MINI SKIRT(NR)', 1.0],\n",
              " ['MOON MINI SKIRT(SL)', 0.82429695],\n",
              " ['TESS HW SKIRT(TT)', 0.8113109],\n",
              " ['RIGHT HW SKIRT(COUTUREMADE)', 0.8065959],\n",
              " ['TRACY MW MINI SKIRT(TT)', 0.79641855]]"
            ]
          },
          "metadata": {
            "tags": []
          },
          "execution_count": 125
        }
      ]
    }
  ]
}